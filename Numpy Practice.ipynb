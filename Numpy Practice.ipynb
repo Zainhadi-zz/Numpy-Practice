{
 "cells": [
  {
   "cell_type": "markdown",
   "metadata": {},
   "source": [
    "# List vs NDArray\n"
   ]
  },
  {
   "cell_type": "code",
   "execution_count": 1,
   "metadata": {},
   "outputs": [],
   "source": [
    "import numpy as np"
   ]
  },
  {
   "cell_type": "code",
   "execution_count": 2,
   "metadata": {},
   "outputs": [],
   "source": [
    "i = np.arange(1000)\n",
    "l = range(1000)"
   ]
  },
  {
   "cell_type": "code",
   "execution_count": 5,
   "metadata": {},
   "outputs": [
    {
     "name": "stdout",
     "output_type": "stream",
     "text": [
      "Wall time: 1.01 ms\n"
     ]
    }
   ],
   "source": [
    "%time for z in range(1,10): r=[x*2 for x in l]"
   ]
  },
  {
   "cell_type": "code",
   "execution_count": 6,
   "metadata": {},
   "outputs": [
    {
     "name": "stdout",
     "output_type": "stream",
     "text": [
      "Wall time: 0 ns\n"
     ]
    }
   ],
   "source": [
    "%time for z in range(1,10): r=i*2"
   ]
  },
  {
   "cell_type": "markdown",
   "metadata": {},
   "source": [
    "# Vectorized Functions"
   ]
  },
  {
   "cell_type": "code",
   "execution_count": 11,
   "metadata": {},
   "outputs": [],
   "source": [
    "import numpy as np\n",
    "arr = np.array(([1.,2,3,4],[1,2,3,4]))\n",
    "arr2 = np.array(([1,2,3,4],[1,2,3,4]))\n"
   ]
  },
  {
   "cell_type": "code",
   "execution_count": 14,
   "metadata": {},
   "outputs": [
    {
     "data": {
      "text/plain": [
       "array([2., 3., 4., 2., 3., 4.])"
      ]
     },
     "execution_count": 14,
     "metadata": {},
     "output_type": "execute_result"
    }
   ],
   "source": [
    "\n",
    "arr[arr>1]"
   ]
  },
  {
   "cell_type": "code",
   "execution_count": 20,
   "metadata": {},
   "outputs": [],
   "source": [
    "a = np.random.randn((10))\n",
    "b = np.random.randn((10))"
   ]
  },
  {
   "cell_type": "code",
   "execution_count": 21,
   "metadata": {},
   "outputs": [
    {
     "data": {
      "text/plain": [
       "array([False,  True,  True, False, False,  True, False,  True, False,\n",
       "        True])"
      ]
     },
     "execution_count": 21,
     "metadata": {},
     "output_type": "execute_result"
    }
   ],
   "source": [
    "a > b"
   ]
  },
  {
   "cell_type": "code",
   "execution_count": 22,
   "metadata": {},
   "outputs": [
    {
     "data": {
      "text/plain": [
       "array([-1.06599059,  1.07635516,  0.54336953,  1.25039312, -0.18260962])"
      ]
     },
     "execution_count": 22,
     "metadata": {},
     "output_type": "execute_result"
    }
   ],
   "source": [
    "a[a>b]"
   ]
  },
  {
   "cell_type": "markdown",
   "metadata": {},
   "source": [
    "# Indexing | Slicing"
   ]
  },
  {
   "cell_type": "markdown",
   "metadata": {},
   "source": [
    "# Fancy indexing"
   ]
  },
  {
   "cell_type": "code",
   "execution_count": 24,
   "metadata": {},
   "outputs": [
    {
     "data": {
      "text/plain": [
       "array([ 3,  4,  5, 65])"
      ]
     },
     "execution_count": 24,
     "metadata": {},
     "output_type": "execute_result"
    }
   ],
   "source": [
    "import numpy as np\n",
    "a = np.array([1,2,3,4,5,65])\n",
    "a[[2,3,4,5]]"
   ]
  },
  {
   "cell_type": "code",
   "execution_count": 25,
   "metadata": {},
   "outputs": [],
   "source": [
    "a1 = np.random.randn(10,10)"
   ]
  },
  {
   "cell_type": "code",
   "execution_count": 26,
   "metadata": {},
   "outputs": [
    {
     "data": {
      "text/plain": [
       "array([[ 0.11976191, -0.07312215, -1.38764359, -1.1274804 , -0.52248817,\n",
       "        -1.305602  ,  0.23536294, -0.96108331, -0.05956827,  0.96288092],\n",
       "       [ 1.12603257, -0.18864458,  0.21103415, -0.31674597,  1.70687619,\n",
       "        -1.5077879 , -0.37559428, -1.04485236,  0.83239681,  0.15779377],\n",
       "       [-0.61820394,  0.23242281, -1.02701639,  0.95078683, -1.40924205,\n",
       "         2.05131629,  1.10885274, -0.45973936, -0.16296175,  0.43803774],\n",
       "       [ 0.66398388, -0.10024017, -1.13489337, -0.87856486,  0.93475114,\n",
       "         0.37013679, -0.34453497, -0.93231741, -0.83559949,  0.94759637],\n",
       "       [-1.1307325 , -0.57509839, -0.64113032,  0.19516398, -0.33079471,\n",
       "         0.36608269,  0.57055182,  0.07541791,  1.48230551,  0.93680973],\n",
       "       [ 0.24023442, -0.72011687,  0.49841119, -1.85570516, -0.67504838,\n",
       "         2.84446786,  0.32267728, -0.28676319,  0.24219157,  1.18039018],\n",
       "       [-1.13604977, -1.37979225, -0.04870947, -1.09012041,  1.50779641,\n",
       "        -1.80668762,  0.12594839, -2.21381215,  2.31855432, -0.4151301 ],\n",
       "       [-0.15170609,  0.12084251,  0.99127571, -0.00789097,  1.11362955,\n",
       "        -1.55340363,  0.62567402,  0.30997678,  0.61202036,  0.96541784],\n",
       "       [ 1.59831638,  2.24714227,  0.05298873,  0.19493037, -0.15664839,\n",
       "        -1.0391618 , -0.28798732,  1.07975378, -0.42027936,  1.5445392 ],\n",
       "       [ 2.5595697 , -1.42705864,  1.66689184,  1.29121217, -0.52606455,\n",
       "         0.50259088, -0.12932265, -1.19647627,  1.83091626,  0.63762695]])"
      ]
     },
     "execution_count": 26,
     "metadata": {},
     "output_type": "execute_result"
    }
   ],
   "source": [
    "a1"
   ]
  },
  {
   "cell_type": "code",
   "execution_count": 31,
   "metadata": {},
   "outputs": [
    {
     "data": {
      "text/plain": [
       "array([ 1.12603257, -0.18864458,  0.21103415, -0.31674597,  1.70687619,\n",
       "       -1.5077879 , -0.37559428, -1.04485236,  0.83239681,  0.15779377])"
      ]
     },
     "execution_count": 31,
     "metadata": {},
     "output_type": "execute_result"
    }
   ],
   "source": [
    "a1[1]"
   ]
  },
  {
   "cell_type": "code",
   "execution_count": 32,
   "metadata": {},
   "outputs": [
    {
     "data": {
      "text/plain": [
       "array([ 0.11976191, -0.07312215, -1.38764359, -1.1274804 , -0.52248817,\n",
       "       -1.305602  ,  0.23536294, -0.96108331, -0.05956827,  0.96288092])"
      ]
     },
     "execution_count": 32,
     "metadata": {},
     "output_type": "execute_result"
    }
   ],
   "source": [
    "a1[0]"
   ]
  },
  {
   "cell_type": "code",
   "execution_count": 37,
   "metadata": {},
   "outputs": [
    {
     "data": {
      "text/plain": [
       "-0.9610833133887476"
      ]
     },
     "execution_count": 37,
     "metadata": {},
     "output_type": "execute_result"
    }
   ],
   "source": [
    "a1[0][7]"
   ]
  },
  {
   "cell_type": "code",
   "execution_count": 42,
   "metadata": {},
   "outputs": [
    {
     "data": {
      "text/plain": [
       "array([[ 1.12603257, -0.18864458,  0.21103415, -0.31674597,  1.70687619,\n",
       "        -1.5077879 , -0.37559428, -1.04485236,  0.83239681,  0.15779377],\n",
       "       [-1.13604977, -1.37979225, -0.04870947, -1.09012041,  1.50779641,\n",
       "        -1.80668762,  0.12594839, -2.21381215,  2.31855432, -0.4151301 ]])"
      ]
     },
     "execution_count": 42,
     "metadata": {},
     "output_type": "execute_result"
    }
   ],
   "source": [
    "a1[1:10:5]"
   ]
  },
  {
   "cell_type": "code",
   "execution_count": 45,
   "metadata": {},
   "outputs": [
    {
     "data": {
      "text/plain": [
       "array([[ 0.11976191],\n",
       "       [ 1.12603257],\n",
       "       [-0.61820394],\n",
       "       [ 0.66398388],\n",
       "       [-1.1307325 ],\n",
       "       [ 0.24023442],\n",
       "       [-1.13604977],\n",
       "       [-0.15170609],\n",
       "       [ 1.59831638],\n",
       "       [ 2.5595697 ]])"
      ]
     },
     "execution_count": 45,
     "metadata": {},
     "output_type": "execute_result"
    }
   ],
   "source": [
    "a1[::,0:1]"
   ]
  },
  {
   "cell_type": "code",
   "execution_count": 63,
   "metadata": {},
   "outputs": [],
   "source": [
    "z1 = np.ones((5,5))"
   ]
  },
  {
   "cell_type": "code",
   "execution_count": 64,
   "metadata": {},
   "outputs": [
    {
     "data": {
      "text/plain": [
       "array([[1., 1., 1., 1., 1.],\n",
       "       [1., 1., 1., 1., 1.],\n",
       "       [1., 1., 1., 1., 1.],\n",
       "       [1., 1., 1., 1., 1.],\n",
       "       [1., 1., 1., 1., 1.]])"
      ]
     },
     "execution_count": 64,
     "metadata": {},
     "output_type": "execute_result"
    }
   ],
   "source": [
    "z1"
   ]
  },
  {
   "cell_type": "code",
   "execution_count": 69,
   "metadata": {},
   "outputs": [],
   "source": [
    "z1[1:-1,1:-1]=0"
   ]
  },
  {
   "cell_type": "code",
   "execution_count": 70,
   "metadata": {},
   "outputs": [
    {
     "data": {
      "text/plain": [
       "array([[1., 1., 1., 1., 1.],\n",
       "       [1., 0., 0., 0., 1.],\n",
       "       [1., 0., 0., 0., 1.],\n",
       "       [1., 0., 0., 0., 1.],\n",
       "       [1., 1., 1., 1., 1.]])"
      ]
     },
     "execution_count": 70,
     "metadata": {},
     "output_type": "execute_result"
    }
   ],
   "source": [
    "z1"
   ]
  },
  {
   "cell_type": "markdown",
   "metadata": {},
   "source": [
    "# Fast element-wise array functions"
   ]
  },
  {
   "cell_type": "code",
   "execution_count": 3,
   "metadata": {},
   "outputs": [
    {
     "data": {
      "text/plain": [
       "array([1.        , 1.41421356, 1.73205081, 2.23606798, 2.44948974,\n",
       "       2.64575131, 3.        ])"
      ]
     },
     "execution_count": 3,
     "metadata": {},
     "output_type": "execute_result"
    }
   ],
   "source": [
    "import numpy as np\n",
    "x = np.array([1,2,3,5,6,7,9])\n",
    "np.sqrt(x)"
   ]
  },
  {
   "cell_type": "code",
   "execution_count": 11,
   "metadata": {},
   "outputs": [
    {
     "data": {
      "text/plain": [
       "array([  1,   8,  27, 125, 216, 343, 729], dtype=int32)"
      ]
     },
     "execution_count": 11,
     "metadata": {},
     "output_type": "execute_result"
    }
   ],
   "source": [
    "np.power(x,3)"
   ]
  },
  {
   "cell_type": "code",
   "execution_count": 13,
   "metadata": {},
   "outputs": [],
   "source": [
    "y=np.array([6,6,6,6,6,6,6])"
   ]
  },
  {
   "cell_type": "code",
   "execution_count": 14,
   "metadata": {},
   "outputs": [
    {
     "data": {
      "text/plain": [
       "array([6, 6, 6, 6, 6, 7, 9])"
      ]
     },
     "execution_count": 14,
     "metadata": {},
     "output_type": "execute_result"
    }
   ],
   "source": [
    "np.maximum(x,y)"
   ]
  },
  {
   "cell_type": "code",
   "execution_count": 16,
   "metadata": {},
   "outputs": [
    {
     "data": {
      "text/plain": [
       "array([ 9.09733790e-01,  1.57962636e+00,  4.33454378e-01, -3.59170145e-01,\n",
       "        1.74226848e+00,  1.91695372e-01,  4.00589304e-01,  1.02467214e+00,\n",
       "        6.20512309e-01,  1.62884311e+00,  1.05173446e+00,  9.31812278e-01,\n",
       "        1.12275971e-01,  1.66239659e+00, -1.49146340e-01,  1.53438796e+00,\n",
       "        7.33794181e-01,  9.76836594e-01,  4.51452332e-01,  1.35724537e+00,\n",
       "       -2.75229505e-02, -9.33211558e-01,  1.86078928e+00,  1.75300110e+00,\n",
       "        5.26343774e-02, -1.05367073e+00,  4.38348633e-01, -5.87197101e-02,\n",
       "       -1.13013805e+00,  4.98786430e-01,  6.00722657e-01,  7.87475820e-01,\n",
       "        3.57050429e-01,  2.62957540e-01,  1.01372962e+00,  8.56866923e-02,\n",
       "        1.48250331e+00, -1.24630012e+00,  1.98252157e+00,  8.44673542e-01,\n",
       "        6.35555089e-01,  6.27337202e-01,  8.05077762e-01, -1.33743735e-01,\n",
       "        2.16690607e-01,  7.55285000e-01,  1.17682407e+00,  4.46221887e-01,\n",
       "       -1.60965947e-01,  2.12314881e+00,  4.70277650e-01,  1.37322970e+00,\n",
       "        8.91682507e-01,  2.26836455e-02,  2.47495761e-01, -5.12077354e-01,\n",
       "        6.44675368e-01, -1.29271398e+00,  2.07314076e+00,  1.14121503e+00,\n",
       "       -8.12108267e-02, -1.85190064e-01, -1.47909624e-01,  6.20398825e-01,\n",
       "       -1.46800175e-02,  2.01949298e-01,  4.61396474e-01, -5.25878293e-01,\n",
       "        5.18331679e-01,  1.50608794e+00,  1.80106538e-01, -2.60116431e-01,\n",
       "        3.94586209e-01,  8.71161530e-01,  1.20179547e+00, -4.42535837e-01,\n",
       "       -1.13352664e-01,  1.19935810e+00, -4.22685368e-01, -1.36320677e+00,\n",
       "        7.98081316e-01,  2.04101577e-01,  7.23895461e-01,  3.54688768e-01,\n",
       "        2.19527816e-01,  3.20680441e-01,  1.87633032e-01,  5.11970837e-02,\n",
       "        1.47482113e-01,  8.63945528e-01,  1.49813706e+00,  3.54074578e-01,\n",
       "       -1.18765009e+00,  2.29826266e+00,  1.44021154e+00,  9.98021047e-01,\n",
       "        1.48552652e+00, -5.08801721e-01, -5.08058748e-04,  1.64294185e+00])"
      ]
     },
     "execution_count": 16,
     "metadata": {},
     "output_type": "execute_result"
    }
   ],
   "source": [
    "a = np.random.randn(100)\n",
    "b= np.random.randn(100)\n",
    "np.maximum(a,b)"
   ]
  },
  {
   "cell_type": "markdown",
   "metadata": {},
   "source": [
    "# Np.where"
   ]
  },
  {
   "cell_type": "code",
   "execution_count": 18,
   "metadata": {},
   "outputs": [
    {
     "data": {
      "text/plain": [
       "array(['Not ok', 'Not ok', 'Not ok', 'Not ok', 'Not ok', 'Not ok',\n",
       "       'Not ok', 'Not ok', 'OK', 'OK', 'OK'], dtype='<U6')"
      ]
     },
     "execution_count": 18,
     "metadata": {},
     "output_type": "execute_result"
    }
   ],
   "source": [
    "import numpy as np\n",
    "salary = np.array([0,0,0,0,0,-1,-2,-4,25000,20000,30000])\n",
    "np.where(salary<=0,\"Not ok\",\"OK\")"
   ]
  },
  {
   "cell_type": "markdown",
   "metadata": {},
   "source": [
    "# Mathematical & Statistical Methods"
   ]
  },
  {
   "cell_type": "code",
   "execution_count": 32,
   "metadata": {},
   "outputs": [],
   "source": [
    "import numpy as np\n",
    "\n",
    "z = np.array([9,9,9,9,1,1,2,3,4,5,6,7,8,9])\n",
    "\n"
   ]
  },
  {
   "cell_type": "code",
   "execution_count": 20,
   "metadata": {},
   "outputs": [
    {
     "data": {
      "text/plain": [
       "5.0"
      ]
     },
     "execution_count": 20,
     "metadata": {},
     "output_type": "execute_result"
    }
   ],
   "source": [
    "np.mean(z)"
   ]
  },
  {
   "cell_type": "code",
   "execution_count": 21,
   "metadata": {},
   "outputs": [
    {
     "data": {
      "text/plain": [
       "array([ 1,  3,  6, 10, 15, 21, 28, 36, 45], dtype=int32)"
      ]
     },
     "execution_count": 21,
     "metadata": {},
     "output_type": "execute_result"
    }
   ],
   "source": [
    "np.cumsum(z)"
   ]
  },
  {
   "cell_type": "code",
   "execution_count": 22,
   "metadata": {},
   "outputs": [
    {
     "data": {
      "text/plain": [
       "array([     1,      2,      6,     24,    120,    720,   5040,  40320,\n",
       "       362880], dtype=int32)"
      ]
     },
     "execution_count": 22,
     "metadata": {},
     "output_type": "execute_result"
    }
   ],
   "source": [
    "np.cumprod(z)"
   ]
  },
  {
   "cell_type": "code",
   "execution_count": 23,
   "metadata": {},
   "outputs": [],
   "source": [
    "z1 = z>7\n"
   ]
  },
  {
   "cell_type": "code",
   "execution_count": 24,
   "metadata": {},
   "outputs": [
    {
     "data": {
      "text/plain": [
       "2"
      ]
     },
     "execution_count": 24,
     "metadata": {},
     "output_type": "execute_result"
    }
   ],
   "source": [
    "np.sum(z1)"
   ]
  },
  {
   "cell_type": "code",
   "execution_count": 25,
   "metadata": {},
   "outputs": [
    {
     "data": {
      "text/plain": [
       "True"
      ]
     },
     "execution_count": 25,
     "metadata": {},
     "output_type": "execute_result"
    }
   ],
   "source": [
    "np.any(z1)"
   ]
  },
  {
   "cell_type": "code",
   "execution_count": 26,
   "metadata": {},
   "outputs": [
    {
     "data": {
      "text/plain": [
       "False"
      ]
     },
     "execution_count": 26,
     "metadata": {},
     "output_type": "execute_result"
    }
   ],
   "source": [
    "np.all(z1)"
   ]
  },
  {
   "cell_type": "code",
   "execution_count": 33,
   "metadata": {},
   "outputs": [
    {
     "data": {
      "text/plain": [
       "array([1, 2, 3, 4, 5, 6, 7, 8, 9])"
      ]
     },
     "execution_count": 33,
     "metadata": {},
     "output_type": "execute_result"
    }
   ],
   "source": [
    "np.unique(z)"
   ]
  },
  {
   "cell_type": "code",
   "execution_count": 34,
   "metadata": {},
   "outputs": [],
   "source": [
    "z.sort()"
   ]
  },
  {
   "cell_type": "code",
   "execution_count": 35,
   "metadata": {},
   "outputs": [
    {
     "data": {
      "text/plain": [
       "array([1, 1, 2, 3, 4, 5, 6, 7, 8, 9, 9, 9, 9, 9])"
      ]
     },
     "execution_count": 35,
     "metadata": {},
     "output_type": "execute_result"
    }
   ],
   "source": [
    "z"
   ]
  },
  {
   "cell_type": "markdown",
   "metadata": {},
   "source": [
    "# File Input Output"
   ]
  },
  {
   "cell_type": "code",
   "execution_count": null,
   "metadata": {},
   "outputs": [],
   "source": [
    "np.save()\n",
    "np.load()\n",
    "np.savez()"
   ]
  },
  {
   "cell_type": "code",
   "execution_count": null,
   "metadata": {},
   "outputs": [],
   "source": []
  }
 ],
 "metadata": {
  "kernelspec": {
   "display_name": "Python 3",
   "language": "python",
   "name": "python3"
  },
  "language_info": {
   "codemirror_mode": {
    "name": "ipython",
    "version": 3
   },
   "file_extension": ".py",
   "mimetype": "text/x-python",
   "name": "python",
   "nbconvert_exporter": "python",
   "pygments_lexer": "ipython3",
   "version": "3.8.3"
  }
 },
 "nbformat": 4,
 "nbformat_minor": 4
}
